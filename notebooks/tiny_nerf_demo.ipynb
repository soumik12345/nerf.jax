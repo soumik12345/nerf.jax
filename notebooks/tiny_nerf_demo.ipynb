{
  "cells": [
    {
      "cell_type": "markdown",
      "metadata": {
        "colab_type": "text",
        "id": "view-in-github"
      },
      "source": [
        "<a href=\"https://colab.research.google.com/github/soumik12345/nerf.jax/blob/main/notebooks/nerf_demo.ipynb\" target=\"_parent\"><img src=\"https://colab.research.google.com/assets/colab-badge.svg\" alt=\"Open In Colab\"/></a>"
      ]
    },
    {
      "cell_type": "code",
      "execution_count": null,
      "metadata": {
        "colab": {
          "base_uri": "https://localhost:8080/"
        },
        "id": "aL2ca225ZuZK",
        "outputId": "2c85413a-1c4e-435d-bdc4-e0e24d4c7dc8"
      },
      "outputs": [],
      "source": [
        "!pip install -q -U flax jax jaxlib wget\n",
        "!git clone https://github.com/soumik12345/nerf.jax"
      ]
    },
    {
      "cell_type": "code",
      "execution_count": null,
      "metadata": {
        "id": "SrHzzGoIZuZP"
      },
      "outputs": [],
      "source": [
        "import os\n",
        "import sys\n",
        "sys.path.append(\"nerf.jax\")\n",
        "from base64 import b64encode\n",
        "from IPython.display import HTML\n",
        "from matplotlib import pyplot as plt\n",
        "\n",
        "from tiny_nerf.train import NeRFSystem\n",
        "from tiny_nerf.utils import load_lego_data\n",
        "\n",
        "os.mkdir(\"checkpoints\")"
      ]
    },
    {
      "cell_type": "code",
      "execution_count": null,
      "metadata": {
        "colab": {
          "base_uri": "https://localhost:8080/",
          "height": 248
        },
        "id": "44aU2PvVZuZQ",
        "outputId": "79d2b831-1911-4f17-ee15-bae1300cc509"
      },
      "outputs": [],
      "source": [
        "(\n",
        "    train_images, train_poses,\n",
        "    test_image, test_pose, focal,\n",
        "    image_height, image_width\n",
        ") = load_lego_data()\n",
        "\n",
        "plt.imshow(test_image)\n",
        "plt.axis(\"off\")\n",
        "plt.show()"
      ]
    },
    {
      "cell_type": "code",
      "execution_count": null,
      "metadata": {
        "colab": {
          "base_uri": "https://localhost:8080/",
          "height": 1000
        },
        "id": "KHwi5WLlZuZR",
        "outputId": "6815f1b7-b8af-40d9-ed10-6c5f6a422d16"
      },
      "outputs": [],
      "source": [
        "nerf_system = NeRFSystem(train_images.shape[1], train_images.shape[2], focal)\n",
        "nerf_system.compile(5e-4, train_poses, test_pose)\n",
        "nerf_system.train(train_images, test_image, 1000, 100)"
      ]
    },
    {
      "cell_type": "code",
      "execution_count": null,
      "metadata": {
        "colab": {
          "base_uri": "https://localhost:8080/"
        },
        "id": "yR3O3sEHZuZR",
        "outputId": "9b71edf7-df48-4f1e-ec98-0d00871f9d56"
      },
      "outputs": [],
      "source": [
        "nerf_system.load()\n",
        "nerf_system.render_video()"
      ]
    },
    {
      "cell_type": "code",
      "execution_count": null,
      "metadata": {
        "colab": {
          "base_uri": "https://localhost:8080/",
          "height": 521
        },
        "id": "OD05EsIzZuZS",
        "outputId": "cf2d91ca-0b62-46ff-805a-faf852260c8b"
      },
      "outputs": [],
      "source": [
        "mp4 = open(\"rgb.mp4\", \"rb\").read()\n",
        "data_url = f\"data:video/mp4;base64,{b64encode(mp4).decode()}\"\n",
        "HTML(\n",
        "    \"\"\"\n",
        "<video width=500 controls autoplay loop>\n",
        "      <source src=\"%s\" type=\"video/mp4\">\n",
        "</video>\n",
        "\"\"\"\n",
        "    % data_url\n",
        ")"
      ]
    },
    {
      "cell_type": "code",
      "execution_count": null,
      "metadata": {
        "colab": {
          "base_uri": "https://localhost:8080/",
          "height": 521
        },
        "id": "drd8hXOfZuZS",
        "outputId": "4d23ec4f-beee-4598-b426-49a3b03bb8a8"
      },
      "outputs": [],
      "source": [
        "mp4 = open(\"depth.mp4\", \"rb\").read()\n",
        "data_url = f\"data:video/mp4;base64,{b64encode(mp4).decode()}\"\n",
        "HTML(\n",
        "    \"\"\"\n",
        "<video width=500 controls autoplay loop>\n",
        "      <source src=\"%s\" type=\"video/mp4\">\n",
        "</video>\n",
        "\"\"\"\n",
        "    % data_url\n",
        ")"
      ]
    },
    {
      "cell_type": "code",
      "execution_count": null,
      "metadata": {
        "id": "Hv42L3WCdQJB"
      },
      "outputs": [],
      "source": []
    }
  ],
  "metadata": {
    "accelerator": "TPU",
    "colab": {
      "include_colab_link": true,
      "machine_shape": "hm",
      "name": "nerf_demo.ipynb",
      "provenance": []
    },
    "interpreter": {
      "hash": "df0893f56f349688326838aaeea0de204df53a132722cbd565e54b24a8fec5f6"
    },
    "kernelspec": {
      "display_name": "Python 3.8.0 64-bit",
      "language": "python",
      "name": "python3"
    },
    "language_info": {
      "codemirror_mode": {
        "name": "ipython",
        "version": 3
      },
      "file_extension": ".py",
      "mimetype": "text/x-python",
      "name": "python",
      "nbconvert_exporter": "python",
      "pygments_lexer": "ipython3",
      "version": "3.8.0"
    },
    "orig_nbformat": 4
  },
  "nbformat": 4,
  "nbformat_minor": 0
}
